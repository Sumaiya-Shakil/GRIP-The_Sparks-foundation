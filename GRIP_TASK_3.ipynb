{
  "nbformat": 4,
  "nbformat_minor": 0,
  "metadata": {
    "colab": {
      "name": "GRIP TASK 3",
      "provenance": [],
      "collapsed_sections": []
    },
    "kernelspec": {
      "name": "python3",
      "display_name": "Python 3"
    },
    "language_info": {
      "name": "python"
    }
  },
  "cells": [
    {
      "cell_type": "markdown",
      "source": [
        "**GRIP TASK 3**\n",
        "\n",
        "**EXPLORATORY DATA ANALYSIS**\n",
        "\n",
        "**RETAIL- SAMPLE SUPERSTORE**\n",
        "\n",
        "**AUTHOR- SUMAIYA SHAKIL**"
      ],
      "metadata": {
        "id": "Hp_VZ9QalBN2"
      }
    },
    {
      "cell_type": "markdown",
      "source": [
        "In this project we will try to find out business problems and the factors or weak areas that are affecting the business growth(profit)."
      ],
      "metadata": {
        "id": "7Ie-Jo7YlBKS"
      }
    },
    {
      "cell_type": "code",
      "execution_count": null,
      "metadata": {
        "id": "OLsrfEZxjR4T"
      },
      "outputs": [],
      "source": [
        "# IMPORTING IMPORTANT LIBRARIES\n",
        "import pandas as pd \n",
        "import numpy as np\n",
        "import matplotlib.pyplot as plt\n",
        "import seaborn as sns\n",
        "\n",
        "%matplotlib inline\n",
        "\n",
        "pd.set_option('display.max_rows', None)\n",
        "pd.set_option('display.max_columns', None)"
      ]
    },
    {
      "cell_type": "code",
      "source": [
        "df=pd.read_csv('SampleSuperstore.csv')\n",
        "df.head()"
      ],
      "metadata": {
        "colab": {
          "base_uri": "https://localhost:8080/",
          "height": 206
        },
        "id": "3gmSdLaUkj1H",
        "outputId": "fce5186e-30db-4df2-b3e2-b5217fb1b3c8"
      },
      "execution_count": null,
      "outputs": [
        {
          "output_type": "execute_result",
          "data": {
            "text/plain": [
              "        Ship Mode    Segment        Country             City       State  \\\n",
              "0    Second Class   Consumer  United States        Henderson    Kentucky   \n",
              "1    Second Class   Consumer  United States        Henderson    Kentucky   \n",
              "2    Second Class  Corporate  United States      Los Angeles  California   \n",
              "3  Standard Class   Consumer  United States  Fort Lauderdale     Florida   \n",
              "4  Standard Class   Consumer  United States  Fort Lauderdale     Florida   \n",
              "\n",
              "   Postal Code Region         Category Sub-Category     Sales  Quantity  \\\n",
              "0        42420  South        Furniture    Bookcases  261.9600         2   \n",
              "1        42420  South        Furniture       Chairs  731.9400         3   \n",
              "2        90036   West  Office Supplies       Labels   14.6200         2   \n",
              "3        33311  South        Furniture       Tables  957.5775         5   \n",
              "4        33311  South  Office Supplies      Storage   22.3680         2   \n",
              "\n",
              "   Discount    Profit  \n",
              "0      0.00   41.9136  \n",
              "1      0.00  219.5820  \n",
              "2      0.00    6.8714  \n",
              "3      0.45 -383.0310  \n",
              "4      0.20    2.5164  "
            ],
            "text/html": [
              "\n",
              "  <div id=\"df-2cafe33f-b14c-4920-9006-5a71beb69e0d\">\n",
              "    <div class=\"colab-df-container\">\n",
              "      <div>\n",
              "<style scoped>\n",
              "    .dataframe tbody tr th:only-of-type {\n",
              "        vertical-align: middle;\n",
              "    }\n",
              "\n",
              "    .dataframe tbody tr th {\n",
              "        vertical-align: top;\n",
              "    }\n",
              "\n",
              "    .dataframe thead th {\n",
              "        text-align: right;\n",
              "    }\n",
              "</style>\n",
              "<table border=\"1\" class=\"dataframe\">\n",
              "  <thead>\n",
              "    <tr style=\"text-align: right;\">\n",
              "      <th></th>\n",
              "      <th>Ship Mode</th>\n",
              "      <th>Segment</th>\n",
              "      <th>Country</th>\n",
              "      <th>City</th>\n",
              "      <th>State</th>\n",
              "      <th>Postal Code</th>\n",
              "      <th>Region</th>\n",
              "      <th>Category</th>\n",
              "      <th>Sub-Category</th>\n",
              "      <th>Sales</th>\n",
              "      <th>Quantity</th>\n",
              "      <th>Discount</th>\n",
              "      <th>Profit</th>\n",
              "    </tr>\n",
              "  </thead>\n",
              "  <tbody>\n",
              "    <tr>\n",
              "      <th>0</th>\n",
              "      <td>Second Class</td>\n",
              "      <td>Consumer</td>\n",
              "      <td>United States</td>\n",
              "      <td>Henderson</td>\n",
              "      <td>Kentucky</td>\n",
              "      <td>42420</td>\n",
              "      <td>South</td>\n",
              "      <td>Furniture</td>\n",
              "      <td>Bookcases</td>\n",
              "      <td>261.9600</td>\n",
              "      <td>2</td>\n",
              "      <td>0.00</td>\n",
              "      <td>41.9136</td>\n",
              "    </tr>\n",
              "    <tr>\n",
              "      <th>1</th>\n",
              "      <td>Second Class</td>\n",
              "      <td>Consumer</td>\n",
              "      <td>United States</td>\n",
              "      <td>Henderson</td>\n",
              "      <td>Kentucky</td>\n",
              "      <td>42420</td>\n",
              "      <td>South</td>\n",
              "      <td>Furniture</td>\n",
              "      <td>Chairs</td>\n",
              "      <td>731.9400</td>\n",
              "      <td>3</td>\n",
              "      <td>0.00</td>\n",
              "      <td>219.5820</td>\n",
              "    </tr>\n",
              "    <tr>\n",
              "      <th>2</th>\n",
              "      <td>Second Class</td>\n",
              "      <td>Corporate</td>\n",
              "      <td>United States</td>\n",
              "      <td>Los Angeles</td>\n",
              "      <td>California</td>\n",
              "      <td>90036</td>\n",
              "      <td>West</td>\n",
              "      <td>Office Supplies</td>\n",
              "      <td>Labels</td>\n",
              "      <td>14.6200</td>\n",
              "      <td>2</td>\n",
              "      <td>0.00</td>\n",
              "      <td>6.8714</td>\n",
              "    </tr>\n",
              "    <tr>\n",
              "      <th>3</th>\n",
              "      <td>Standard Class</td>\n",
              "      <td>Consumer</td>\n",
              "      <td>United States</td>\n",
              "      <td>Fort Lauderdale</td>\n",
              "      <td>Florida</td>\n",
              "      <td>33311</td>\n",
              "      <td>South</td>\n",
              "      <td>Furniture</td>\n",
              "      <td>Tables</td>\n",
              "      <td>957.5775</td>\n",
              "      <td>5</td>\n",
              "      <td>0.45</td>\n",
              "      <td>-383.0310</td>\n",
              "    </tr>\n",
              "    <tr>\n",
              "      <th>4</th>\n",
              "      <td>Standard Class</td>\n",
              "      <td>Consumer</td>\n",
              "      <td>United States</td>\n",
              "      <td>Fort Lauderdale</td>\n",
              "      <td>Florida</td>\n",
              "      <td>33311</td>\n",
              "      <td>South</td>\n",
              "      <td>Office Supplies</td>\n",
              "      <td>Storage</td>\n",
              "      <td>22.3680</td>\n",
              "      <td>2</td>\n",
              "      <td>0.20</td>\n",
              "      <td>2.5164</td>\n",
              "    </tr>\n",
              "  </tbody>\n",
              "</table>\n",
              "</div>\n",
              "      <button class=\"colab-df-convert\" onclick=\"convertToInteractive('df-2cafe33f-b14c-4920-9006-5a71beb69e0d')\"\n",
              "              title=\"Convert this dataframe to an interactive table.\"\n",
              "              style=\"display:none;\">\n",
              "        \n",
              "  <svg xmlns=\"http://www.w3.org/2000/svg\" height=\"24px\"viewBox=\"0 0 24 24\"\n",
              "       width=\"24px\">\n",
              "    <path d=\"M0 0h24v24H0V0z\" fill=\"none\"/>\n",
              "    <path d=\"M18.56 5.44l.94 2.06.94-2.06 2.06-.94-2.06-.94-.94-2.06-.94 2.06-2.06.94zm-11 1L8.5 8.5l.94-2.06 2.06-.94-2.06-.94L8.5 2.5l-.94 2.06-2.06.94zm10 10l.94 2.06.94-2.06 2.06-.94-2.06-.94-.94-2.06-.94 2.06-2.06.94z\"/><path d=\"M17.41 7.96l-1.37-1.37c-.4-.4-.92-.59-1.43-.59-.52 0-1.04.2-1.43.59L10.3 9.45l-7.72 7.72c-.78.78-.78 2.05 0 2.83L4 21.41c.39.39.9.59 1.41.59.51 0 1.02-.2 1.41-.59l7.78-7.78 2.81-2.81c.8-.78.8-2.07 0-2.86zM5.41 20L4 18.59l7.72-7.72 1.47 1.35L5.41 20z\"/>\n",
              "  </svg>\n",
              "      </button>\n",
              "      \n",
              "  <style>\n",
              "    .colab-df-container {\n",
              "      display:flex;\n",
              "      flex-wrap:wrap;\n",
              "      gap: 12px;\n",
              "    }\n",
              "\n",
              "    .colab-df-convert {\n",
              "      background-color: #E8F0FE;\n",
              "      border: none;\n",
              "      border-radius: 50%;\n",
              "      cursor: pointer;\n",
              "      display: none;\n",
              "      fill: #1967D2;\n",
              "      height: 32px;\n",
              "      padding: 0 0 0 0;\n",
              "      width: 32px;\n",
              "    }\n",
              "\n",
              "    .colab-df-convert:hover {\n",
              "      background-color: #E2EBFA;\n",
              "      box-shadow: 0px 1px 2px rgba(60, 64, 67, 0.3), 0px 1px 3px 1px rgba(60, 64, 67, 0.15);\n",
              "      fill: #174EA6;\n",
              "    }\n",
              "\n",
              "    [theme=dark] .colab-df-convert {\n",
              "      background-color: #3B4455;\n",
              "      fill: #D2E3FC;\n",
              "    }\n",
              "\n",
              "    [theme=dark] .colab-df-convert:hover {\n",
              "      background-color: #434B5C;\n",
              "      box-shadow: 0px 1px 3px 1px rgba(0, 0, 0, 0.15);\n",
              "      filter: drop-shadow(0px 1px 2px rgba(0, 0, 0, 0.3));\n",
              "      fill: #FFFFFF;\n",
              "    }\n",
              "  </style>\n",
              "\n",
              "      <script>\n",
              "        const buttonEl =\n",
              "          document.querySelector('#df-2cafe33f-b14c-4920-9006-5a71beb69e0d button.colab-df-convert');\n",
              "        buttonEl.style.display =\n",
              "          google.colab.kernel.accessAllowed ? 'block' : 'none';\n",
              "\n",
              "        async function convertToInteractive(key) {\n",
              "          const element = document.querySelector('#df-2cafe33f-b14c-4920-9006-5a71beb69e0d');\n",
              "          const dataTable =\n",
              "            await google.colab.kernel.invokeFunction('convertToInteractive',\n",
              "                                                     [key], {});\n",
              "          if (!dataTable) return;\n",
              "\n",
              "          const docLinkHtml = 'Like what you see? Visit the ' +\n",
              "            '<a target=\"_blank\" href=https://colab.research.google.com/notebooks/data_table.ipynb>data table notebook</a>'\n",
              "            + ' to learn more about interactive tables.';\n",
              "          element.innerHTML = '';\n",
              "          dataTable['output_type'] = 'display_data';\n",
              "          await google.colab.output.renderOutput(dataTable, element);\n",
              "          const docLink = document.createElement('div');\n",
              "          docLink.innerHTML = docLinkHtml;\n",
              "          element.appendChild(docLink);\n",
              "        }\n",
              "      </script>\n",
              "    </div>\n",
              "  </div>\n",
              "  "
            ]
          },
          "metadata": {},
          "execution_count": 2
        }
      ]
    },
    {
      "cell_type": "code",
      "source": [
        "# Checking the number of rows and columns\n",
        "df.shape"
      ],
      "metadata": {
        "colab": {
          "base_uri": "https://localhost:8080/"
        },
        "id": "ChOQlDhQsGil",
        "outputId": "a3ce439b-bd49-4f3f-e34f-f59776e8c148"
      },
      "execution_count": null,
      "outputs": [
        {
          "output_type": "execute_result",
          "data": {
            "text/plain": [
              "(9994, 13)"
            ]
          },
          "metadata": {},
          "execution_count": 3
        }
      ]
    },
    {
      "cell_type": "markdown",
      "source": [
        "So there are 9994 rows and 13 columns"
      ],
      "metadata": {
        "id": "dEILp6hmsUHV"
      }
    },
    {
      "cell_type": "code",
      "source": [
        "# Gathering information about the data\n",
        "df.info()"
      ],
      "metadata": {
        "colab": {
          "base_uri": "https://localhost:8080/"
        },
        "id": "aErMvAz8kjxV",
        "outputId": "438429b0-7da5-4aa5-8375-3f0343855b7a"
      },
      "execution_count": null,
      "outputs": [
        {
          "output_type": "stream",
          "name": "stdout",
          "text": [
            "<class 'pandas.core.frame.DataFrame'>\n",
            "RangeIndex: 9994 entries, 0 to 9993\n",
            "Data columns (total 13 columns):\n",
            " #   Column        Non-Null Count  Dtype  \n",
            "---  ------        --------------  -----  \n",
            " 0   Ship Mode     9994 non-null   object \n",
            " 1   Segment       9994 non-null   object \n",
            " 2   Country       9994 non-null   object \n",
            " 3   City          9994 non-null   object \n",
            " 4   State         9994 non-null   object \n",
            " 5   Postal Code   9994 non-null   int64  \n",
            " 6   Region        9994 non-null   object \n",
            " 7   Category      9994 non-null   object \n",
            " 8   Sub-Category  9994 non-null   object \n",
            " 9   Sales         9994 non-null   float64\n",
            " 10  Quantity      9994 non-null   int64  \n",
            " 11  Discount      9994 non-null   float64\n",
            " 12  Profit        9994 non-null   float64\n",
            "dtypes: float64(3), int64(2), object(8)\n",
            "memory usage: 1015.1+ KB\n"
          ]
        }
      ]
    },
    {
      "cell_type": "code",
      "source": [
        "# Understanding some statistical measures\n",
        "df.describe()"
      ],
      "metadata": {
        "colab": {
          "base_uri": "https://localhost:8080/",
          "height": 300
        },
        "id": "24-1icuIkjtO",
        "outputId": "e5146de0-25c1-48eb-9aed-ff2eea9205c1"
      },
      "execution_count": null,
      "outputs": [
        {
          "output_type": "execute_result",
          "data": {
            "text/plain": [
              "        Postal Code         Sales     Quantity     Discount       Profit\n",
              "count   9994.000000   9994.000000  9994.000000  9994.000000  9994.000000\n",
              "mean   55190.379428    229.858001     3.789574     0.156203    28.656896\n",
              "std    32063.693350    623.245101     2.225110     0.206452   234.260108\n",
              "min     1040.000000      0.444000     1.000000     0.000000 -6599.978000\n",
              "25%    23223.000000     17.280000     2.000000     0.000000     1.728750\n",
              "50%    56430.500000     54.490000     3.000000     0.200000     8.666500\n",
              "75%    90008.000000    209.940000     5.000000     0.200000    29.364000\n",
              "max    99301.000000  22638.480000    14.000000     0.800000  8399.976000"
            ],
            "text/html": [
              "\n",
              "  <div id=\"df-479dc19b-e5dc-4512-b21d-44a22707ba77\">\n",
              "    <div class=\"colab-df-container\">\n",
              "      <div>\n",
              "<style scoped>\n",
              "    .dataframe tbody tr th:only-of-type {\n",
              "        vertical-align: middle;\n",
              "    }\n",
              "\n",
              "    .dataframe tbody tr th {\n",
              "        vertical-align: top;\n",
              "    }\n",
              "\n",
              "    .dataframe thead th {\n",
              "        text-align: right;\n",
              "    }\n",
              "</style>\n",
              "<table border=\"1\" class=\"dataframe\">\n",
              "  <thead>\n",
              "    <tr style=\"text-align: right;\">\n",
              "      <th></th>\n",
              "      <th>Postal Code</th>\n",
              "      <th>Sales</th>\n",
              "      <th>Quantity</th>\n",
              "      <th>Discount</th>\n",
              "      <th>Profit</th>\n",
              "    </tr>\n",
              "  </thead>\n",
              "  <tbody>\n",
              "    <tr>\n",
              "      <th>count</th>\n",
              "      <td>9994.000000</td>\n",
              "      <td>9994.000000</td>\n",
              "      <td>9994.000000</td>\n",
              "      <td>9994.000000</td>\n",
              "      <td>9994.000000</td>\n",
              "    </tr>\n",
              "    <tr>\n",
              "      <th>mean</th>\n",
              "      <td>55190.379428</td>\n",
              "      <td>229.858001</td>\n",
              "      <td>3.789574</td>\n",
              "      <td>0.156203</td>\n",
              "      <td>28.656896</td>\n",
              "    </tr>\n",
              "    <tr>\n",
              "      <th>std</th>\n",
              "      <td>32063.693350</td>\n",
              "      <td>623.245101</td>\n",
              "      <td>2.225110</td>\n",
              "      <td>0.206452</td>\n",
              "      <td>234.260108</td>\n",
              "    </tr>\n",
              "    <tr>\n",
              "      <th>min</th>\n",
              "      <td>1040.000000</td>\n",
              "      <td>0.444000</td>\n",
              "      <td>1.000000</td>\n",
              "      <td>0.000000</td>\n",
              "      <td>-6599.978000</td>\n",
              "    </tr>\n",
              "    <tr>\n",
              "      <th>25%</th>\n",
              "      <td>23223.000000</td>\n",
              "      <td>17.280000</td>\n",
              "      <td>2.000000</td>\n",
              "      <td>0.000000</td>\n",
              "      <td>1.728750</td>\n",
              "    </tr>\n",
              "    <tr>\n",
              "      <th>50%</th>\n",
              "      <td>56430.500000</td>\n",
              "      <td>54.490000</td>\n",
              "      <td>3.000000</td>\n",
              "      <td>0.200000</td>\n",
              "      <td>8.666500</td>\n",
              "    </tr>\n",
              "    <tr>\n",
              "      <th>75%</th>\n",
              "      <td>90008.000000</td>\n",
              "      <td>209.940000</td>\n",
              "      <td>5.000000</td>\n",
              "      <td>0.200000</td>\n",
              "      <td>29.364000</td>\n",
              "    </tr>\n",
              "    <tr>\n",
              "      <th>max</th>\n",
              "      <td>99301.000000</td>\n",
              "      <td>22638.480000</td>\n",
              "      <td>14.000000</td>\n",
              "      <td>0.800000</td>\n",
              "      <td>8399.976000</td>\n",
              "    </tr>\n",
              "  </tbody>\n",
              "</table>\n",
              "</div>\n",
              "      <button class=\"colab-df-convert\" onclick=\"convertToInteractive('df-479dc19b-e5dc-4512-b21d-44a22707ba77')\"\n",
              "              title=\"Convert this dataframe to an interactive table.\"\n",
              "              style=\"display:none;\">\n",
              "        \n",
              "  <svg xmlns=\"http://www.w3.org/2000/svg\" height=\"24px\"viewBox=\"0 0 24 24\"\n",
              "       width=\"24px\">\n",
              "    <path d=\"M0 0h24v24H0V0z\" fill=\"none\"/>\n",
              "    <path d=\"M18.56 5.44l.94 2.06.94-2.06 2.06-.94-2.06-.94-.94-2.06-.94 2.06-2.06.94zm-11 1L8.5 8.5l.94-2.06 2.06-.94-2.06-.94L8.5 2.5l-.94 2.06-2.06.94zm10 10l.94 2.06.94-2.06 2.06-.94-2.06-.94-.94-2.06-.94 2.06-2.06.94z\"/><path d=\"M17.41 7.96l-1.37-1.37c-.4-.4-.92-.59-1.43-.59-.52 0-1.04.2-1.43.59L10.3 9.45l-7.72 7.72c-.78.78-.78 2.05 0 2.83L4 21.41c.39.39.9.59 1.41.59.51 0 1.02-.2 1.41-.59l7.78-7.78 2.81-2.81c.8-.78.8-2.07 0-2.86zM5.41 20L4 18.59l7.72-7.72 1.47 1.35L5.41 20z\"/>\n",
              "  </svg>\n",
              "      </button>\n",
              "      \n",
              "  <style>\n",
              "    .colab-df-container {\n",
              "      display:flex;\n",
              "      flex-wrap:wrap;\n",
              "      gap: 12px;\n",
              "    }\n",
              "\n",
              "    .colab-df-convert {\n",
              "      background-color: #E8F0FE;\n",
              "      border: none;\n",
              "      border-radius: 50%;\n",
              "      cursor: pointer;\n",
              "      display: none;\n",
              "      fill: #1967D2;\n",
              "      height: 32px;\n",
              "      padding: 0 0 0 0;\n",
              "      width: 32px;\n",
              "    }\n",
              "\n",
              "    .colab-df-convert:hover {\n",
              "      background-color: #E2EBFA;\n",
              "      box-shadow: 0px 1px 2px rgba(60, 64, 67, 0.3), 0px 1px 3px 1px rgba(60, 64, 67, 0.15);\n",
              "      fill: #174EA6;\n",
              "    }\n",
              "\n",
              "    [theme=dark] .colab-df-convert {\n",
              "      background-color: #3B4455;\n",
              "      fill: #D2E3FC;\n",
              "    }\n",
              "\n",
              "    [theme=dark] .colab-df-convert:hover {\n",
              "      background-color: #434B5C;\n",
              "      box-shadow: 0px 1px 3px 1px rgba(0, 0, 0, 0.15);\n",
              "      filter: drop-shadow(0px 1px 2px rgba(0, 0, 0, 0.3));\n",
              "      fill: #FFFFFF;\n",
              "    }\n",
              "  </style>\n",
              "\n",
              "      <script>\n",
              "        const buttonEl =\n",
              "          document.querySelector('#df-479dc19b-e5dc-4512-b21d-44a22707ba77 button.colab-df-convert');\n",
              "        buttonEl.style.display =\n",
              "          google.colab.kernel.accessAllowed ? 'block' : 'none';\n",
              "\n",
              "        async function convertToInteractive(key) {\n",
              "          const element = document.querySelector('#df-479dc19b-e5dc-4512-b21d-44a22707ba77');\n",
              "          const dataTable =\n",
              "            await google.colab.kernel.invokeFunction('convertToInteractive',\n",
              "                                                     [key], {});\n",
              "          if (!dataTable) return;\n",
              "\n",
              "          const docLinkHtml = 'Like what you see? Visit the ' +\n",
              "            '<a target=\"_blank\" href=https://colab.research.google.com/notebooks/data_table.ipynb>data table notebook</a>'\n",
              "            + ' to learn more about interactive tables.';\n",
              "          element.innerHTML = '';\n",
              "          dataTable['output_type'] = 'display_data';\n",
              "          await google.colab.output.renderOutput(dataTable, element);\n",
              "          const docLink = document.createElement('div');\n",
              "          docLink.innerHTML = docLinkHtml;\n",
              "          element.appendChild(docLink);\n",
              "        }\n",
              "      </script>\n",
              "    </div>\n",
              "  </div>\n",
              "  "
            ]
          },
          "metadata": {},
          "execution_count": 5
        }
      ]
    },
    {
      "cell_type": "code",
      "source": [
        "# Checking for null values\n",
        "df.isnull().sum()"
      ],
      "metadata": {
        "colab": {
          "base_uri": "https://localhost:8080/"
        },
        "id": "fs8FmSJ1l-S3",
        "outputId": "99b501c6-627f-48e5-949d-e7841fa671fd"
      },
      "execution_count": null,
      "outputs": [
        {
          "output_type": "execute_result",
          "data": {
            "text/plain": [
              "Ship Mode       0\n",
              "Segment         0\n",
              "Country         0\n",
              "City            0\n",
              "State           0\n",
              "Postal Code     0\n",
              "Region          0\n",
              "Category        0\n",
              "Sub-Category    0\n",
              "Sales           0\n",
              "Quantity        0\n",
              "Discount        0\n",
              "Profit          0\n",
              "dtype: int64"
            ]
          },
          "metadata": {},
          "execution_count": 6
        }
      ]
    },
    {
      "cell_type": "markdown",
      "source": [
        "No null values\n"
      ],
      "metadata": {
        "id": "nlaBng-MmNR8"
      }
    },
    {
      "cell_type": "code",
      "source": [
        "# Checking for Duplicates\n",
        "\n",
        "df.duplicated().sum()"
      ],
      "metadata": {
        "colab": {
          "base_uri": "https://localhost:8080/"
        },
        "id": "9WfQ4Az2l-O_",
        "outputId": "0ae515b2-c0d2-46e1-e6d0-160f305d2920"
      },
      "execution_count": null,
      "outputs": [
        {
          "output_type": "execute_result",
          "data": {
            "text/plain": [
              "17"
            ]
          },
          "metadata": {},
          "execution_count": 7
        }
      ]
    },
    {
      "cell_type": "markdown",
      "source": [
        "There are 17 duplicate values"
      ],
      "metadata": {
        "id": "Q-OyRjicme41"
      }
    },
    {
      "cell_type": "code",
      "source": [
        "# Dropping the duplicate values\n",
        "df.drop_duplicates().head()"
      ],
      "metadata": {
        "colab": {
          "base_uri": "https://localhost:8080/",
          "height": 206
        },
        "id": "3mSVxMG_l-H8",
        "outputId": "5e1153a6-359c-46db-f407-7cf125ef3f34"
      },
      "execution_count": null,
      "outputs": [
        {
          "output_type": "execute_result",
          "data": {
            "text/plain": [
              "        Ship Mode    Segment        Country             City       State  \\\n",
              "0    Second Class   Consumer  United States        Henderson    Kentucky   \n",
              "1    Second Class   Consumer  United States        Henderson    Kentucky   \n",
              "2    Second Class  Corporate  United States      Los Angeles  California   \n",
              "3  Standard Class   Consumer  United States  Fort Lauderdale     Florida   \n",
              "4  Standard Class   Consumer  United States  Fort Lauderdale     Florida   \n",
              "\n",
              "   Postal Code Region         Category Sub-Category     Sales  Quantity  \\\n",
              "0        42420  South        Furniture    Bookcases  261.9600         2   \n",
              "1        42420  South        Furniture       Chairs  731.9400         3   \n",
              "2        90036   West  Office Supplies       Labels   14.6200         2   \n",
              "3        33311  South        Furniture       Tables  957.5775         5   \n",
              "4        33311  South  Office Supplies      Storage   22.3680         2   \n",
              "\n",
              "   Discount    Profit  \n",
              "0      0.00   41.9136  \n",
              "1      0.00  219.5820  \n",
              "2      0.00    6.8714  \n",
              "3      0.45 -383.0310  \n",
              "4      0.20    2.5164  "
            ],
            "text/html": [
              "\n",
              "  <div id=\"df-9b56df35-334e-489a-8abb-704e03af38a4\">\n",
              "    <div class=\"colab-df-container\">\n",
              "      <div>\n",
              "<style scoped>\n",
              "    .dataframe tbody tr th:only-of-type {\n",
              "        vertical-align: middle;\n",
              "    }\n",
              "\n",
              "    .dataframe tbody tr th {\n",
              "        vertical-align: top;\n",
              "    }\n",
              "\n",
              "    .dataframe thead th {\n",
              "        text-align: right;\n",
              "    }\n",
              "</style>\n",
              "<table border=\"1\" class=\"dataframe\">\n",
              "  <thead>\n",
              "    <tr style=\"text-align: right;\">\n",
              "      <th></th>\n",
              "      <th>Ship Mode</th>\n",
              "      <th>Segment</th>\n",
              "      <th>Country</th>\n",
              "      <th>City</th>\n",
              "      <th>State</th>\n",
              "      <th>Postal Code</th>\n",
              "      <th>Region</th>\n",
              "      <th>Category</th>\n",
              "      <th>Sub-Category</th>\n",
              "      <th>Sales</th>\n",
              "      <th>Quantity</th>\n",
              "      <th>Discount</th>\n",
              "      <th>Profit</th>\n",
              "    </tr>\n",
              "  </thead>\n",
              "  <tbody>\n",
              "    <tr>\n",
              "      <th>0</th>\n",
              "      <td>Second Class</td>\n",
              "      <td>Consumer</td>\n",
              "      <td>United States</td>\n",
              "      <td>Henderson</td>\n",
              "      <td>Kentucky</td>\n",
              "      <td>42420</td>\n",
              "      <td>South</td>\n",
              "      <td>Furniture</td>\n",
              "      <td>Bookcases</td>\n",
              "      <td>261.9600</td>\n",
              "      <td>2</td>\n",
              "      <td>0.00</td>\n",
              "      <td>41.9136</td>\n",
              "    </tr>\n",
              "    <tr>\n",
              "      <th>1</th>\n",
              "      <td>Second Class</td>\n",
              "      <td>Consumer</td>\n",
              "      <td>United States</td>\n",
              "      <td>Henderson</td>\n",
              "      <td>Kentucky</td>\n",
              "      <td>42420</td>\n",
              "      <td>South</td>\n",
              "      <td>Furniture</td>\n",
              "      <td>Chairs</td>\n",
              "      <td>731.9400</td>\n",
              "      <td>3</td>\n",
              "      <td>0.00</td>\n",
              "      <td>219.5820</td>\n",
              "    </tr>\n",
              "    <tr>\n",
              "      <th>2</th>\n",
              "      <td>Second Class</td>\n",
              "      <td>Corporate</td>\n",
              "      <td>United States</td>\n",
              "      <td>Los Angeles</td>\n",
              "      <td>California</td>\n",
              "      <td>90036</td>\n",
              "      <td>West</td>\n",
              "      <td>Office Supplies</td>\n",
              "      <td>Labels</td>\n",
              "      <td>14.6200</td>\n",
              "      <td>2</td>\n",
              "      <td>0.00</td>\n",
              "      <td>6.8714</td>\n",
              "    </tr>\n",
              "    <tr>\n",
              "      <th>3</th>\n",
              "      <td>Standard Class</td>\n",
              "      <td>Consumer</td>\n",
              "      <td>United States</td>\n",
              "      <td>Fort Lauderdale</td>\n",
              "      <td>Florida</td>\n",
              "      <td>33311</td>\n",
              "      <td>South</td>\n",
              "      <td>Furniture</td>\n",
              "      <td>Tables</td>\n",
              "      <td>957.5775</td>\n",
              "      <td>5</td>\n",
              "      <td>0.45</td>\n",
              "      <td>-383.0310</td>\n",
              "    </tr>\n",
              "    <tr>\n",
              "      <th>4</th>\n",
              "      <td>Standard Class</td>\n",
              "      <td>Consumer</td>\n",
              "      <td>United States</td>\n",
              "      <td>Fort Lauderdale</td>\n",
              "      <td>Florida</td>\n",
              "      <td>33311</td>\n",
              "      <td>South</td>\n",
              "      <td>Office Supplies</td>\n",
              "      <td>Storage</td>\n",
              "      <td>22.3680</td>\n",
              "      <td>2</td>\n",
              "      <td>0.20</td>\n",
              "      <td>2.5164</td>\n",
              "    </tr>\n",
              "  </tbody>\n",
              "</table>\n",
              "</div>\n",
              "      <button class=\"colab-df-convert\" onclick=\"convertToInteractive('df-9b56df35-334e-489a-8abb-704e03af38a4')\"\n",
              "              title=\"Convert this dataframe to an interactive table.\"\n",
              "              style=\"display:none;\">\n",
              "        \n",
              "  <svg xmlns=\"http://www.w3.org/2000/svg\" height=\"24px\"viewBox=\"0 0 24 24\"\n",
              "       width=\"24px\">\n",
              "    <path d=\"M0 0h24v24H0V0z\" fill=\"none\"/>\n",
              "    <path d=\"M18.56 5.44l.94 2.06.94-2.06 2.06-.94-2.06-.94-.94-2.06-.94 2.06-2.06.94zm-11 1L8.5 8.5l.94-2.06 2.06-.94-2.06-.94L8.5 2.5l-.94 2.06-2.06.94zm10 10l.94 2.06.94-2.06 2.06-.94-2.06-.94-.94-2.06-.94 2.06-2.06.94z\"/><path d=\"M17.41 7.96l-1.37-1.37c-.4-.4-.92-.59-1.43-.59-.52 0-1.04.2-1.43.59L10.3 9.45l-7.72 7.72c-.78.78-.78 2.05 0 2.83L4 21.41c.39.39.9.59 1.41.59.51 0 1.02-.2 1.41-.59l7.78-7.78 2.81-2.81c.8-.78.8-2.07 0-2.86zM5.41 20L4 18.59l7.72-7.72 1.47 1.35L5.41 20z\"/>\n",
              "  </svg>\n",
              "      </button>\n",
              "      \n",
              "  <style>\n",
              "    .colab-df-container {\n",
              "      display:flex;\n",
              "      flex-wrap:wrap;\n",
              "      gap: 12px;\n",
              "    }\n",
              "\n",
              "    .colab-df-convert {\n",
              "      background-color: #E8F0FE;\n",
              "      border: none;\n",
              "      border-radius: 50%;\n",
              "      cursor: pointer;\n",
              "      display: none;\n",
              "      fill: #1967D2;\n",
              "      height: 32px;\n",
              "      padding: 0 0 0 0;\n",
              "      width: 32px;\n",
              "    }\n",
              "\n",
              "    .colab-df-convert:hover {\n",
              "      background-color: #E2EBFA;\n",
              "      box-shadow: 0px 1px 2px rgba(60, 64, 67, 0.3), 0px 1px 3px 1px rgba(60, 64, 67, 0.15);\n",
              "      fill: #174EA6;\n",
              "    }\n",
              "\n",
              "    [theme=dark] .colab-df-convert {\n",
              "      background-color: #3B4455;\n",
              "      fill: #D2E3FC;\n",
              "    }\n",
              "\n",
              "    [theme=dark] .colab-df-convert:hover {\n",
              "      background-color: #434B5C;\n",
              "      box-shadow: 0px 1px 3px 1px rgba(0, 0, 0, 0.15);\n",
              "      filter: drop-shadow(0px 1px 2px rgba(0, 0, 0, 0.3));\n",
              "      fill: #FFFFFF;\n",
              "    }\n",
              "  </style>\n",
              "\n",
              "      <script>\n",
              "        const buttonEl =\n",
              "          document.querySelector('#df-9b56df35-334e-489a-8abb-704e03af38a4 button.colab-df-convert');\n",
              "        buttonEl.style.display =\n",
              "          google.colab.kernel.accessAllowed ? 'block' : 'none';\n",
              "\n",
              "        async function convertToInteractive(key) {\n",
              "          const element = document.querySelector('#df-9b56df35-334e-489a-8abb-704e03af38a4');\n",
              "          const dataTable =\n",
              "            await google.colab.kernel.invokeFunction('convertToInteractive',\n",
              "                                                     [key], {});\n",
              "          if (!dataTable) return;\n",
              "\n",
              "          const docLinkHtml = 'Like what you see? Visit the ' +\n",
              "            '<a target=\"_blank\" href=https://colab.research.google.com/notebooks/data_table.ipynb>data table notebook</a>'\n",
              "            + ' to learn more about interactive tables.';\n",
              "          element.innerHTML = '';\n",
              "          dataTable['output_type'] = 'display_data';\n",
              "          await google.colab.output.renderOutput(dataTable, element);\n",
              "          const docLink = document.createElement('div');\n",
              "          docLink.innerHTML = docLinkHtml;\n",
              "          element.appendChild(docLink);\n",
              "        }\n",
              "      </script>\n",
              "    </div>\n",
              "  </div>\n",
              "  "
            ]
          },
          "metadata": {},
          "execution_count": 8
        }
      ]
    },
    {
      "cell_type": "code",
      "source": [
        "#Finding the number of unique values in each column\n",
        "df.nunique()\n"
      ],
      "metadata": {
        "colab": {
          "base_uri": "https://localhost:8080/"
        },
        "id": "kfQ34IwCm6Oc",
        "outputId": "f73989fb-951b-4ee3-d13d-0b704cd881f6"
      },
      "execution_count": null,
      "outputs": [
        {
          "output_type": "execute_result",
          "data": {
            "text/plain": [
              "Ship Mode          4\n",
              "Segment            3\n",
              "Country            1\n",
              "City             531\n",
              "State             49\n",
              "Postal Code      631\n",
              "Region             4\n",
              "Category           3\n",
              "Sub-Category      17\n",
              "Sales           5825\n",
              "Quantity          14\n",
              "Discount          12\n",
              "Profit          7287\n",
              "dtype: int64"
            ]
          },
          "metadata": {},
          "execution_count": 9
        }
      ]
    },
    {
      "cell_type": "code",
      "source": [
        "df.columns"
      ],
      "metadata": {
        "colab": {
          "base_uri": "https://localhost:8080/"
        },
        "id": "qLjEWO_NSrwB",
        "outputId": "f77a7ac3-c58c-430b-e5a7-008fc7239eaf"
      },
      "execution_count": null,
      "outputs": [
        {
          "output_type": "execute_result",
          "data": {
            "text/plain": [
              "Index(['Ship Mode', 'Segment', 'Country', 'City', 'State', 'Postal Code',\n",
              "       'Region', 'Category', 'Sub-Category', 'Sales', 'Quantity', 'Discount',\n",
              "       'Profit'],\n",
              "      dtype='object')"
            ]
          },
          "metadata": {},
          "execution_count": 10
        }
      ]
    },
    {
      "cell_type": "code",
      "source": [
        "df.drop('Country',axis=1,inplace=True)\n",
        "df.drop('Postal Code',axis=1,inplace=True)\n",
        "df.head()"
      ],
      "metadata": {
        "colab": {
          "base_uri": "https://localhost:8080/",
          "height": 206
        },
        "id": "8CmN3ZK9zFLJ",
        "outputId": "851669a2-9ba8-40a9-f6e1-f93a5064a73d"
      },
      "execution_count": null,
      "outputs": [
        {
          "output_type": "execute_result",
          "data": {
            "text/plain": [
              "        Ship Mode    Segment             City       State Region  \\\n",
              "0    Second Class   Consumer        Henderson    Kentucky  South   \n",
              "1    Second Class   Consumer        Henderson    Kentucky  South   \n",
              "2    Second Class  Corporate      Los Angeles  California   West   \n",
              "3  Standard Class   Consumer  Fort Lauderdale     Florida  South   \n",
              "4  Standard Class   Consumer  Fort Lauderdale     Florida  South   \n",
              "\n",
              "          Category Sub-Category     Sales  Quantity  Discount    Profit  \n",
              "0        Furniture    Bookcases  261.9600         2      0.00   41.9136  \n",
              "1        Furniture       Chairs  731.9400         3      0.00  219.5820  \n",
              "2  Office Supplies       Labels   14.6200         2      0.00    6.8714  \n",
              "3        Furniture       Tables  957.5775         5      0.45 -383.0310  \n",
              "4  Office Supplies      Storage   22.3680         2      0.20    2.5164  "
            ],
            "text/html": [
              "\n",
              "  <div id=\"df-34ec158f-0911-40da-b776-113877c88fcc\">\n",
              "    <div class=\"colab-df-container\">\n",
              "      <div>\n",
              "<style scoped>\n",
              "    .dataframe tbody tr th:only-of-type {\n",
              "        vertical-align: middle;\n",
              "    }\n",
              "\n",
              "    .dataframe tbody tr th {\n",
              "        vertical-align: top;\n",
              "    }\n",
              "\n",
              "    .dataframe thead th {\n",
              "        text-align: right;\n",
              "    }\n",
              "</style>\n",
              "<table border=\"1\" class=\"dataframe\">\n",
              "  <thead>\n",
              "    <tr style=\"text-align: right;\">\n",
              "      <th></th>\n",
              "      <th>Ship Mode</th>\n",
              "      <th>Segment</th>\n",
              "      <th>City</th>\n",
              "      <th>State</th>\n",
              "      <th>Region</th>\n",
              "      <th>Category</th>\n",
              "      <th>Sub-Category</th>\n",
              "      <th>Sales</th>\n",
              "      <th>Quantity</th>\n",
              "      <th>Discount</th>\n",
              "      <th>Profit</th>\n",
              "    </tr>\n",
              "  </thead>\n",
              "  <tbody>\n",
              "    <tr>\n",
              "      <th>0</th>\n",
              "      <td>Second Class</td>\n",
              "      <td>Consumer</td>\n",
              "      <td>Henderson</td>\n",
              "      <td>Kentucky</td>\n",
              "      <td>South</td>\n",
              "      <td>Furniture</td>\n",
              "      <td>Bookcases</td>\n",
              "      <td>261.9600</td>\n",
              "      <td>2</td>\n",
              "      <td>0.00</td>\n",
              "      <td>41.9136</td>\n",
              "    </tr>\n",
              "    <tr>\n",
              "      <th>1</th>\n",
              "      <td>Second Class</td>\n",
              "      <td>Consumer</td>\n",
              "      <td>Henderson</td>\n",
              "      <td>Kentucky</td>\n",
              "      <td>South</td>\n",
              "      <td>Furniture</td>\n",
              "      <td>Chairs</td>\n",
              "      <td>731.9400</td>\n",
              "      <td>3</td>\n",
              "      <td>0.00</td>\n",
              "      <td>219.5820</td>\n",
              "    </tr>\n",
              "    <tr>\n",
              "      <th>2</th>\n",
              "      <td>Second Class</td>\n",
              "      <td>Corporate</td>\n",
              "      <td>Los Angeles</td>\n",
              "      <td>California</td>\n",
              "      <td>West</td>\n",
              "      <td>Office Supplies</td>\n",
              "      <td>Labels</td>\n",
              "      <td>14.6200</td>\n",
              "      <td>2</td>\n",
              "      <td>0.00</td>\n",
              "      <td>6.8714</td>\n",
              "    </tr>\n",
              "    <tr>\n",
              "      <th>3</th>\n",
              "      <td>Standard Class</td>\n",
              "      <td>Consumer</td>\n",
              "      <td>Fort Lauderdale</td>\n",
              "      <td>Florida</td>\n",
              "      <td>South</td>\n",
              "      <td>Furniture</td>\n",
              "      <td>Tables</td>\n",
              "      <td>957.5775</td>\n",
              "      <td>5</td>\n",
              "      <td>0.45</td>\n",
              "      <td>-383.0310</td>\n",
              "    </tr>\n",
              "    <tr>\n",
              "      <th>4</th>\n",
              "      <td>Standard Class</td>\n",
              "      <td>Consumer</td>\n",
              "      <td>Fort Lauderdale</td>\n",
              "      <td>Florida</td>\n",
              "      <td>South</td>\n",
              "      <td>Office Supplies</td>\n",
              "      <td>Storage</td>\n",
              "      <td>22.3680</td>\n",
              "      <td>2</td>\n",
              "      <td>0.20</td>\n",
              "      <td>2.5164</td>\n",
              "    </tr>\n",
              "  </tbody>\n",
              "</table>\n",
              "</div>\n",
              "      <button class=\"colab-df-convert\" onclick=\"convertToInteractive('df-34ec158f-0911-40da-b776-113877c88fcc')\"\n",
              "              title=\"Convert this dataframe to an interactive table.\"\n",
              "              style=\"display:none;\">\n",
              "        \n",
              "  <svg xmlns=\"http://www.w3.org/2000/svg\" height=\"24px\"viewBox=\"0 0 24 24\"\n",
              "       width=\"24px\">\n",
              "    <path d=\"M0 0h24v24H0V0z\" fill=\"none\"/>\n",
              "    <path d=\"M18.56 5.44l.94 2.06.94-2.06 2.06-.94-2.06-.94-.94-2.06-.94 2.06-2.06.94zm-11 1L8.5 8.5l.94-2.06 2.06-.94-2.06-.94L8.5 2.5l-.94 2.06-2.06.94zm10 10l.94 2.06.94-2.06 2.06-.94-2.06-.94-.94-2.06-.94 2.06-2.06.94z\"/><path d=\"M17.41 7.96l-1.37-1.37c-.4-.4-.92-.59-1.43-.59-.52 0-1.04.2-1.43.59L10.3 9.45l-7.72 7.72c-.78.78-.78 2.05 0 2.83L4 21.41c.39.39.9.59 1.41.59.51 0 1.02-.2 1.41-.59l7.78-7.78 2.81-2.81c.8-.78.8-2.07 0-2.86zM5.41 20L4 18.59l7.72-7.72 1.47 1.35L5.41 20z\"/>\n",
              "  </svg>\n",
              "      </button>\n",
              "      \n",
              "  <style>\n",
              "    .colab-df-container {\n",
              "      display:flex;\n",
              "      flex-wrap:wrap;\n",
              "      gap: 12px;\n",
              "    }\n",
              "\n",
              "    .colab-df-convert {\n",
              "      background-color: #E8F0FE;\n",
              "      border: none;\n",
              "      border-radius: 50%;\n",
              "      cursor: pointer;\n",
              "      display: none;\n",
              "      fill: #1967D2;\n",
              "      height: 32px;\n",
              "      padding: 0 0 0 0;\n",
              "      width: 32px;\n",
              "    }\n",
              "\n",
              "    .colab-df-convert:hover {\n",
              "      background-color: #E2EBFA;\n",
              "      box-shadow: 0px 1px 2px rgba(60, 64, 67, 0.3), 0px 1px 3px 1px rgba(60, 64, 67, 0.15);\n",
              "      fill: #174EA6;\n",
              "    }\n",
              "\n",
              "    [theme=dark] .colab-df-convert {\n",
              "      background-color: #3B4455;\n",
              "      fill: #D2E3FC;\n",
              "    }\n",
              "\n",
              "    [theme=dark] .colab-df-convert:hover {\n",
              "      background-color: #434B5C;\n",
              "      box-shadow: 0px 1px 3px 1px rgba(0, 0, 0, 0.15);\n",
              "      filter: drop-shadow(0px 1px 2px rgba(0, 0, 0, 0.3));\n",
              "      fill: #FFFFFF;\n",
              "    }\n",
              "  </style>\n",
              "\n",
              "      <script>\n",
              "        const buttonEl =\n",
              "          document.querySelector('#df-34ec158f-0911-40da-b776-113877c88fcc button.colab-df-convert');\n",
              "        buttonEl.style.display =\n",
              "          google.colab.kernel.accessAllowed ? 'block' : 'none';\n",
              "\n",
              "        async function convertToInteractive(key) {\n",
              "          const element = document.querySelector('#df-34ec158f-0911-40da-b776-113877c88fcc');\n",
              "          const dataTable =\n",
              "            await google.colab.kernel.invokeFunction('convertToInteractive',\n",
              "                                                     [key], {});\n",
              "          if (!dataTable) return;\n",
              "\n",
              "          const docLinkHtml = 'Like what you see? Visit the ' +\n",
              "            '<a target=\"_blank\" href=https://colab.research.google.com/notebooks/data_table.ipynb>data table notebook</a>'\n",
              "            + ' to learn more about interactive tables.';\n",
              "          element.innerHTML = '';\n",
              "          dataTable['output_type'] = 'display_data';\n",
              "          await google.colab.output.renderOutput(dataTable, element);\n",
              "          const docLink = document.createElement('div');\n",
              "          docLink.innerHTML = docLinkHtml;\n",
              "          element.appendChild(docLink);\n",
              "        }\n",
              "      </script>\n",
              "    </div>\n",
              "  </div>\n",
              "  "
            ]
          },
          "metadata": {},
          "execution_count": 11
        }
      ]
    },
    {
      "cell_type": "code",
      "source": [
        "df['Ship Mode'].value_counts()"
      ],
      "metadata": {
        "colab": {
          "base_uri": "https://localhost:8080/"
        },
        "id": "1GK5yBgem6GX",
        "outputId": "dda6f189-223e-4919-8b7e-f33f4fefbe7b"
      },
      "execution_count": null,
      "outputs": [
        {
          "output_type": "execute_result",
          "data": {
            "text/plain": [
              "Standard Class    5968\n",
              "Second Class      1945\n",
              "First Class       1538\n",
              "Same Day           543\n",
              "Name: Ship Mode, dtype: int64"
            ]
          },
          "metadata": {},
          "execution_count": 12
        }
      ]
    },
    {
      "cell_type": "code",
      "source": [
        "df['Segment'].value_counts()"
      ],
      "metadata": {
        "colab": {
          "base_uri": "https://localhost:8080/"
        },
        "id": "nj8Eg38HThxP",
        "outputId": "4e6dff37-6ef2-407a-d5c9-ab4ee0b15890"
      },
      "execution_count": null,
      "outputs": [
        {
          "output_type": "execute_result",
          "data": {
            "text/plain": [
              "Consumer       5191\n",
              "Corporate      3020\n",
              "Home Office    1783\n",
              "Name: Segment, dtype: int64"
            ]
          },
          "metadata": {},
          "execution_count": 13
        }
      ]
    },
    {
      "cell_type": "code",
      "source": [
        "df['City'].value_counts()"
      ],
      "metadata": {
        "colab": {
          "base_uri": "https://localhost:8080/"
        },
        "id": "AnwXAae1UGi3",
        "outputId": "09e896bd-aee5-4304-9d07-4f58babda216"
      },
      "execution_count": null,
      "outputs": [
        {
          "output_type": "execute_result",
          "data": {
            "text/plain": [
              "New York City        915\n",
              "Los Angeles          747\n",
              "Philadelphia         537\n",
              "San Francisco        510\n",
              "Seattle              428\n",
              "Houston              377\n",
              "Chicago              314\n",
              "Columbus             222\n",
              "San Diego            170\n",
              "Springfield          163\n",
              "Dallas               157\n",
              "Jacksonville         125\n",
              "Detroit              115\n",
              "Newark                95\n",
              "Richmond              90\n",
              "Jackson               82\n",
              "Columbia              81\n",
              "Aurora                68\n",
              "Phoenix               63\n",
              "Long Beach            61\n",
              "Arlington             60\n",
              "San Antonio           59\n",
              "Miami                 57\n",
              "Louisville            57\n",
              "Rochester             53\n",
              "Charlotte             52\n",
              "Henderson             51\n",
              "Lakewood              49\n",
              "Lancaster             46\n",
              "Fairfield             45\n",
              "Milwaukee             45\n",
              "Denver                44\n",
              "Lawrence              44\n",
              "Baltimore             43\n",
              "Cleveland             42\n",
              "Pasadena              42\n",
              "San Jose              42\n",
              "Fayetteville          41\n",
              "Salem                 40\n",
              "Atlanta               39\n",
              "Austin                39\n",
              "Franklin              37\n",
              "Tampa                 36\n",
              "Wilmington            36\n",
              "Huntsville            36\n",
              "Decatur               35\n",
              "Toledo                32\n",
              "Tucson                32\n",
              "Providence            31\n",
              "Lafayette             31\n",
              "Concord               31\n",
              "Oceanside             30\n",
              "Memphis               30\n",
              "Nashville             29\n",
              "Clinton               29\n",
              "Troy                  29\n",
              "Omaha                 28\n",
              "Mesa                  28\n",
              "Anaheim               27\n",
              "Fort Worth            27\n",
              "Fresno                26\n",
              "Oakland               26\n",
              "Roseville             26\n",
              "Tulsa                 26\n",
              "Burlington            25\n",
              "Colorado Springs      25\n",
              "Knoxville             24\n",
              "Little Rock           24\n",
              "Portland              24\n",
              "Smyrna                24\n",
              "Auburn                24\n",
              "Peoria                23\n",
              "Indianapolis          23\n",
              "Oklahoma City         23\n",
              "Minneapolis           23\n",
              "Glendale              23\n",
              "Everett               22\n",
              "Lakeland              22\n",
              "Raleigh               22\n",
              "Monroe                21\n",
              "Akron                 21\n",
              "Florence              21\n",
              "Paterson              20\n",
              "Quincy                20\n",
              "Marion                20\n",
              "Dover                 19\n",
              "Mcallen               19\n",
              "Des Moines            19\n",
              "El Paso               19\n",
              "Hialeah               18\n",
              "Chesapeake            18\n",
              "Roswell               18\n",
              "Cincinnati            17\n",
              "Westminster           17\n",
              "Tallahassee           17\n",
              "North Las Vegas       16\n",
              "Chester               16\n",
              "Alexandria            16\n",
              "Virginia Beach        16\n",
              "Bakersfield           16\n",
              "Cranston              16\n",
              "Inglewood             16\n",
              "Redlands              16\n",
              "Brentwood             16\n",
              "Lowell                16\n",
              "Lakeville             15\n",
              "Bloomington           15\n",
              "Plano                 15\n",
              "Yonkers               15\n",
              "Carrollton            15\n",
              "Gilbert               15\n",
              "Fort Lauderdale       15\n",
              "Riverside             14\n",
              "Edmonds               14\n",
              "Pembroke Pines        14\n",
              "Dublin                14\n",
              "Santa Ana             14\n",
              "Saint Petersburg      14\n",
              "Albuquerque           14\n",
              "Sandy Springs         14\n",
              "Sacramento            13\n",
              "Bristol               13\n",
              "Westland              13\n",
              "Grand Prairie         13\n",
              "Plainfield            13\n",
              "Trenton               13\n",
              "Laredo                13\n",
              "Las Vegas             13\n",
              "Greensboro            13\n",
              "Tempe                 13\n",
              "Kent                  13\n",
              "Johnson City          12\n",
              "Newport News          12\n",
              "Midland               12\n",
              "Scottsdale            12\n",
              "Hampton               11\n",
              "Hollywood             11\n",
              "Manchester            11\n",
              "Murfreesboro          11\n",
              "Chico                 11\n",
              "Orlando               11\n",
              "Mobile                11\n",
              "Meriden               11\n",
              "Rockford              11\n",
              "Skokie                11\n",
              "Costa Mesa            11\n",
              "Redmond               11\n",
              "Waterbury             11\n",
              "Jonesboro             11\n",
              "Hempstead             11\n",
              "Plantation            11\n",
              "Carlsbad              11\n",
              "Bowling Green         10\n",
              "Washington            10\n",
              "Boynton Beach         10\n",
              "Freeport              10\n",
              "Parma                 10\n",
              "Suffolk               10\n",
              "Thornton              10\n",
              "La Porte              10\n",
              "Provo                 10\n",
              "Buffalo               10\n",
              "Watertown             10\n",
              "Chattanooga           10\n",
              "Waynesboro            10\n",
              "Montgomery            10\n",
              "Belleville            10\n",
              "Amarillo              10\n",
              "Madison               10\n",
              "Moreno Valley         10\n",
              "Saint Charles         10\n",
              "Greenville             9\n",
              "Kenosha                9\n",
              "Oxnard                 9\n",
              "New Rochelle           9\n",
              "Hattiesburg            9\n",
              "Durham                 9\n",
              "Sioux Falls            9\n",
              "Apple Valley           9\n",
              "Medina                 9\n",
              "Middletown             9\n",
              "Orem                   9\n",
              "Superior               9\n",
              "San Bernardino         9\n",
              "Lorain                 9\n",
              "Great Falls            8\n",
              "Pueblo                 8\n",
              "Salinas                8\n",
              "Redondo Beach          8\n",
              "Georgetown             8\n",
              "Parker                 8\n",
              "Santa Barbara          8\n",
              "Athens                 8\n",
              "Coral Springs          8\n",
              "Corpus Christi         8\n",
              "Utica                  8\n",
              "Mount Vernon           8\n",
              "Salt Lake City         8\n",
              "Miramar                8\n",
              "Fremont                8\n",
              "Perth Amboy            8\n",
              "Naperville             8\n",
              "Eagan                  8\n",
              "Vineland               8\n",
              "Lansing                8\n",
              "Irving                 8\n",
              "Tigard                 8\n",
              "Pomona                 7\n",
              "Clarksville            7\n",
              "Pocatello              7\n",
              "Apopka                 7\n",
              "Spokane                7\n",
              "Allentown              7\n",
              "Southaven              7\n",
              "Chandler               7\n",
              "Wheeling               7\n",
              "Morristown             7\n",
              "Fort Collins           7\n",
              "Wichita                7\n",
              "Revere                 7\n",
              "Danville               7\n",
              "Highland Park          7\n",
              "Pleasant Grove         7\n",
              "Fargo                  7\n",
              "Round Rock             7\n",
              "Asheville              7\n",
              "Marietta               7\n",
              "Harrisonburg           7\n",
              "Grand Rapids           7\n",
              "Brownsville            7\n",
              "Passaic                6\n",
              "Eugene                 6\n",
              "Dearborn Heights       6\n",
              "Wilson                 6\n",
              "South Bend             6\n",
              "Orange                 6\n",
              "Rome                   6\n",
              "Cary                   6\n",
              "Westfield              6\n",
              "Bryan                  6\n",
              "Lubbock                6\n",
              "Bossier City           6\n",
              "Leominster             6\n",
              "Stockton               6\n",
              "Port Arthur            6\n",
              "Mentor                 6\n",
              "Cambridge              6\n",
              "Sunnyvale              6\n",
              "Pasco                  6\n",
              "Macon                  6\n",
              "Saginaw                6\n",
              "Bellevue               6\n",
              "Vallejo                6\n",
              "Eau Claire             6\n",
              "Huntington Beach       6\n",
              "Hackensack             6\n",
              "Milford                6\n",
              "Waco                   6\n",
              "Lake Forest            6\n",
              "Bolingbrook            6\n",
              "Overland Park          6\n",
              "Des Plaines            6\n",
              "Santa Clara            6\n",
              "League City            6\n",
              "Avondale               6\n",
              "East Orange            5\n",
              "Bangor                 5\n",
              "Broken Arrow           5\n",
              "Bethlehem              5\n",
              "Bedford                5\n",
              "Hendersonville         5\n",
              "Gresham                5\n",
              "Ann Arbor              5\n",
              "Garden City            5\n",
              "Odessa                 5\n",
              "Woodstock              5\n",
              "Saint Louis            5\n",
              "La Crosse              5\n",
              "Thousand Oaks          5\n",
              "Carol Stream           5\n",
              "Beaumont               5\n",
              "Logan                  5\n",
              "Camarillo              5\n",
              "Reading                5\n",
              "Tyler                  5\n",
              "Broomfield             5\n",
              "New Bedford            5\n",
              "Murray                 5\n",
              "Deltona                5\n",
              "Dearborn               5\n",
              "Rockville              5\n",
              "Olathe                 5\n",
              "Mission Viejo          5\n",
              "Vancouver              5\n",
              "Warwick                5\n",
              "Palm Coast             5\n",
              "York                   5\n",
              "Harlingen              5\n",
              "Mesquite               5\n",
              "Olympia                5\n",
              "West Jordan            5\n",
              "Encinitas              5\n",
              "Daytona Beach          4\n",
              "Coppell                4\n",
              "Gastonia               4\n",
              "Woonsocket             4\n",
              "Loveland               4\n",
              "Noblesville            4\n",
              "Green Bay              4\n",
              "Wausau                 4\n",
              "Pharr                  4\n",
              "Yuma                   4\n",
              "Covington              4\n",
              "Lawton                 4\n",
              "Meridian               4\n",
              "Torrance               4\n",
              "Maple Grove            4\n",
              "Lewiston               4\n",
              "Norwich                4\n",
              "Garland                4\n",
              "Boise                  4\n",
              "Visalia                4\n",
              "Reno                   4\n",
              "Temecula               4\n",
              "Evanston               4\n",
              "Laguna Niguel          4\n",
              "Greenwood              4\n",
              "Tamarac                4\n",
              "Medford                4\n",
              "Muskogee               4\n",
              "Hoover                 4\n",
              "Elmhurst               4\n",
              "Hamilton               4\n",
              "Morgan Hill            4\n",
              "Sheboygan              4\n",
              "Allen                  4\n",
              "New Albany             4\n",
              "Hillsboro              4\n",
              "San Marcos             4\n",
              "Rancho Cucamonga       4\n",
              "Arvada                 4\n",
              "Hesperia               4\n",
              "San Angelo             4\n",
              "Hot Springs            4\n",
              "Haltom City            4\n",
              "Andover                4\n",
              "Farmington             3\n",
              "Oswego                 3\n",
              "Burbank                3\n",
              "Longmont               3\n",
              "Modesto                3\n",
              "San Gabriel            3\n",
              "The Colony             3\n",
              "Boca Raton             3\n",
              "East Point             3\n",
              "Draper                 3\n",
              "West Palm Beach        3\n",
              "Urbandale              3\n",
              "Woodbury               3\n",
              "Edinburg               3\n",
              "Canton                 3\n",
              "Holland                3\n",
              "Helena                 3\n",
              "Park Ridge             3\n",
              "Taylor                 3\n",
              "Oak Park               3\n",
              "Caldwell               3\n",
              "Lebanon                3\n",
              "Longview               3\n",
              "Beverly                3\n",
              "Renton                 3\n",
              "Delray Beach           3\n",
              "Texas City             3\n",
              "Sierra Vista           3\n",
              "College Station        3\n",
              "Mason                  3\n",
              "Homestead              3\n",
              "Dubuque                3\n",
              "Malden                 3\n",
              "Sparks                 3\n",
              "Escondido              3\n",
              "Pearland               3\n",
              "Woodland               3\n",
              "Bayonne                3\n",
              "Gulfport               3\n",
              "Sterling Heights       3\n",
              "Bellingham             3\n",
              "Lake Charles           3\n",
              "Niagara Falls          3\n",
              "Las Cruces             3\n",
              "Thomasville            3\n",
              "Pompano Beach          3\n",
              "Lincoln Park           3\n",
              "Cuyahoga Falls         3\n",
              "Port Saint Lucie       3\n",
              "Chula Vista            3\n",
              "Manteca                3\n",
              "Saint Cloud            3\n",
              "Sanford                2\n",
              "Appleton               2\n",
              "Nashua                 2\n",
              "Kenner                 2\n",
              "Richardson             2\n",
              "Grapevine              2\n",
              "Owensboro              2\n",
              "Pine Bluff             2\n",
              "Buffalo Grove          2\n",
              "Altoona                2\n",
              "Jamestown              2\n",
              "Summerville            2\n",
              "Englewood              2\n",
              "La Mesa                2\n",
              "Coon Rapids            2\n",
              "San Clemente           2\n",
              "Frisco                 2\n",
              "Lodi                   2\n",
              "Mishawaka              2\n",
              "Marlborough            2\n",
              "Laurel                 2\n",
              "Mansfield              2\n",
              "Moorhead               2\n",
              "Rapid City             2\n",
              "Greeley                2\n",
              "Clifton                2\n",
              "Bozeman                2\n",
              "New Castle             2\n",
              "Charlottesville        2\n",
              "Saint Paul             2\n",
              "El Cajon               2\n",
              "Shelton                2\n",
              "Rio Rancho             2\n",
              "Clovis                 2\n",
              "Twin Falls             2\n",
              "Coachella              2\n",
              "Coral Gables           2\n",
              "North Charleston       2\n",
              "Independence           2\n",
              "Edmond                 2\n",
              "Cedar Hill             2\n",
              "Bridgeton              2\n",
              "Warner Robins          2\n",
              "Bullhead City          2\n",
              "New Brunswick          2\n",
              "Mount Pleasant         2\n",
              "West Allis             2\n",
              "Cottage Grove          2\n",
              "Royal Oak              2\n",
              "Gladstone              2\n",
              "Gaithersburg           2\n",
              "Marysville             2\n",
              "Lehi                   2\n",
              "Tuscaloosa             2\n",
              "Texarkana              2\n",
              "Norman                 2\n",
              "Kirkwood               2\n",
              "Frankfort              2\n",
              "Hickory                2\n",
              "Grove City             2\n",
              "Santa Fe               2\n",
              "Elkhart                2\n",
              "North Miami            2\n",
              "Kissimmee              1\n",
              "Iowa City              1\n",
              "Danbury                1\n",
              "Rogers                 1\n",
              "Linden                 1\n",
              "Citrus Heights         1\n",
              "Littleton              1\n",
              "Tinley Park            1\n",
              "Davis                  1\n",
              "Portage                1\n",
              "Atlantic City          1\n",
              "Melbourne              1\n",
              "Ontario                1\n",
              "Antioch                1\n",
              "Deer Park              1\n",
              "Ormond Beach           1\n",
              "Jefferson City         1\n",
              "Springdale             1\n",
              "San Luis Obispo        1\n",
              "Champaign              1\n",
              "Baytown                1\n",
              "Arlington Heights      1\n",
              "Hagerstown             1\n",
              "Elyria                 1\n",
              "Aberdeen               1\n",
              "Saint Peters           1\n",
              "Rock Hill              1\n",
              "Murrieta               1\n",
              "Romeoville             1\n",
              "Lake Elsinore          1\n",
              "Missoula               1\n",
              "Margate                1\n",
              "Port Orange            1\n",
              "Conway                 1\n",
              "La Quinta              1\n",
              "Redwood City           1\n",
              "Bartlett               1\n",
              "Billings               1\n",
              "Cedar Rapids           1\n",
              "Pensacola              1\n",
              "Cheyenne               1\n",
              "Redding                1\n",
              "Keller                 1\n",
              "Lindenhurst            1\n",
              "Pico Rivera            1\n",
              "Layton                 1\n",
              "Norfolk                1\n",
              "Grand Island           1\n",
              "Vacaville              1\n",
              "Jupiter                1\n",
              "Santa Maria            1\n",
              "Chapel Hill            1\n",
              "Whittier               1\n",
              "Waterloo               1\n",
              "Normal                 1\n",
              "Abilene                1\n",
              "Conroe                 1\n",
              "Orland Park            1\n",
              "Waukesha               1\n",
              "Montebello             1\n",
              "Goldsboro              1\n",
              "Holyoke                1\n",
              "Yucaipa                1\n",
              "Commerce City          1\n",
              "San Mateo              1\n",
              "Glenview               1\n",
              "Missouri City          1\n",
              "Rochester Hills        1\n",
              "Palatine               1\n",
              "Manhattan              1\n",
              "Name: City, dtype: int64"
            ]
          },
          "metadata": {},
          "execution_count": 15
        }
      ]
    },
    {
      "cell_type": "code",
      "source": [
        "df['Region'].value_counts()"
      ],
      "metadata": {
        "colab": {
          "base_uri": "https://localhost:8080/"
        },
        "id": "miv5VWe-Thtp",
        "outputId": "59b994da-d807-48b5-8849-dd84ff4a6bcd"
      },
      "execution_count": null,
      "outputs": [
        {
          "output_type": "execute_result",
          "data": {
            "text/plain": [
              "West       3203\n",
              "East       2848\n",
              "Central    2323\n",
              "South      1620\n",
              "Name: Region, dtype: int64"
            ]
          },
          "metadata": {},
          "execution_count": 16
        }
      ]
    },
    {
      "cell_type": "code",
      "source": [
        "df['Category'].value_counts()"
      ],
      "metadata": {
        "colab": {
          "base_uri": "https://localhost:8080/"
        },
        "id": "NUIjzY4BThrf",
        "outputId": "d563e2a1-bd04-4e20-d922-a95b358c0bab"
      },
      "execution_count": null,
      "outputs": [
        {
          "output_type": "execute_result",
          "data": {
            "text/plain": [
              "Office Supplies    6026\n",
              "Furniture          2121\n",
              "Technology         1847\n",
              "Name: Category, dtype: int64"
            ]
          },
          "metadata": {},
          "execution_count": 17
        }
      ]
    },
    {
      "cell_type": "code",
      "source": [
        "df['Sub-Category'].value_counts()"
      ],
      "metadata": {
        "colab": {
          "base_uri": "https://localhost:8080/"
        },
        "id": "Soxiff9HThoK",
        "outputId": "c3472ab6-77d8-4f68-8d23-9d614c0ceb47"
      },
      "execution_count": null,
      "outputs": [
        {
          "output_type": "execute_result",
          "data": {
            "text/plain": [
              "Binders        1523\n",
              "Paper          1370\n",
              "Furnishings     957\n",
              "Phones          889\n",
              "Storage         846\n",
              "Art             796\n",
              "Accessories     775\n",
              "Chairs          617\n",
              "Appliances      466\n",
              "Labels          364\n",
              "Tables          319\n",
              "Envelopes       254\n",
              "Bookcases       228\n",
              "Fasteners       217\n",
              "Supplies        190\n",
              "Machines        115\n",
              "Copiers          68\n",
              "Name: Sub-Category, dtype: int64"
            ]
          },
          "metadata": {},
          "execution_count": 18
        }
      ]
    },
    {
      "cell_type": "markdown",
      "source": [
        "VISUAL REPRESENTATION"
      ],
      "metadata": {
        "id": "A77RCos3US1I"
      }
    },
    {
      "cell_type": "code",
      "source": [
        "sns.pairplot(df)"
      ],
      "metadata": {
        "id": "cbyOBx2fl-D2",
        "colab": {
          "base_uri": "https://localhost:8080/",
          "height": 743
        },
        "outputId": "a188c951-8528-47d9-922f-e4c5f7054981"
      },
      "execution_count": null,
      "outputs": [
        {
          "output_type": "execute_result",
          "data": {
            "text/plain": [
              "<seaborn.axisgrid.PairGrid at 0x7f1d02e96f90>"
            ]
          },
          "metadata": {},
          "execution_count": 19
        },
        {
          "output_type": "display_data",
          "data": {
            "text/plain": [
              "<Figure size 720x720 with 20 Axes>"
            ],
            "image/png": "[encoded data removed]"
          },
          "metadata": {
            "needs_background": "light"
          }
        }
      ]
    },
    {
      "cell_type": "code",
      "source": [
        "plt.figure(figsize=(8,6))\n",
        "sns.heatmap(df.corr(),annot=True)\n",
        "plt.show()"
      ],
      "metadata": {
        "colab": {
          "base_uri": "https://localhost:8080/",
          "height": 378
        },
        "id": "qP1a0KnuT-e_",
        "outputId": "9c512ea3-1630-4547-bccf-0ca09a6b0fa7"
      },
      "execution_count": null,
      "outputs": [
        {
          "output_type": "display_data",
          "data": {
            "text/plain": [
              "<Figure size 576x432 with 2 Axes>"
            ],
            "image/png": "[encoded data removed]"
          },
          "metadata": {
            "needs_background": "light"
          }
        }
      ]
    },
    {
      "cell_type": "markdown",
      "source": [
        "So there is a positive correlation between-\n",
        "\n",
        "i.Sales and Profit and \n",
        "\n",
        "ii.Quantity and Profit\n",
        "\n",
        "Whereas there is a negetive correlation between-\n",
        "\n",
        "i. Sales and Discount and\n",
        "\n",
        "ii. Quantity and Discount "
      ],
      "metadata": {
        "id": "7nABNzwXtDBP"
      }
    },
    {
      "cell_type": "code",
      "source": [
        "df.hist(figsize=(12,12))"
      ],
      "metadata": {
        "colab": {
          "base_uri": "https://localhost:8080/",
          "height": 803
        },
        "id": "iAx7C_ZOtemL",
        "outputId": "ef721a42-8714-41f2-dd76-9331572fd724"
      },
      "execution_count": null,
      "outputs": [
        {
          "output_type": "execute_result",
          "data": {
            "text/plain": [
              "array([[<matplotlib.axes._subplots.AxesSubplot object at 0x7f1cfaf84e90>,\n",
              "        <matplotlib.axes._subplots.AxesSubplot object at 0x7f1cfaee0590>],\n",
              "       [<matplotlib.axes._subplots.AxesSubplot object at 0x7f1cfaab5150>,\n",
              "        <matplotlib.axes._subplots.AxesSubplot object at 0x7f1cfa426990>]],\n",
              "      dtype=object)"
            ]
          },
          "metadata": {},
          "execution_count": 21
        },
        {
          "output_type": "display_data",
          "data": {
            "text/plain": [
              "<Figure size 864x864 with 4 Axes>"
            ],
            "image/png": "[encoded data removed]"
          },
          "metadata": {
            "needs_background": "light"
          }
        }
      ]
    },
    {
      "cell_type": "code",
      "source": [
        "fig, axes = plt.subplots(1,2, figsize = (15, 5))\n",
        "df.groupby(\"Ship Mode\")[\"Sales\"].sum().sort_values(ascending=False).plot(kind=\"bar\",color=\"Teal\",ax=axes[0]).set_title('Ship Mode by Sales')\n",
        "axes[0].set_ylabel(\"Sales\")\n",
        "df.groupby(\"Ship Mode\")[\"Profit\"].sum().sort_values(ascending=False).plot(kind=\"bar\",color=\"tomato\",ax=axes[1]).set_title('Ship Mode by Profit')\n",
        "axes[1].set_ylabel(\"Profit\")"
      ],
      "metadata": {
        "colab": {
          "base_uri": "https://localhost:8080/",
          "height": 432
        },
        "id": "dROoVvTCT-bM",
        "outputId": "72a2a03d-75f6-42c6-85db-525e2c4bb8bb"
      },
      "execution_count": null,
      "outputs": [
        {
          "output_type": "execute_result",
          "data": {
            "text/plain": [
              "Text(0, 0.5, 'Profit')"
            ]
          },
          "metadata": {},
          "execution_count": 22
        },
        {
          "output_type": "display_data",
          "data": {
            "text/plain": [
              "<Figure size 1080x360 with 2 Axes>"
            ],
            "image/png": "[encoded data removed]"
          },
          "metadata": {
            "needs_background": "light"
          }
        }
      ]
    },
    {
      "cell_type": "code",
      "source": [
        "fig, axes = plt.subplots(1,2, figsize = (15, 5))\n",
        "df.groupby(\"Segment\")[\"Sales\"].sum().sort_values(ascending=False).plot(kind=\"bar\",color=\"Teal\",ax=axes[0]).set_title('Segment by Sales')\n",
        "axes[0].set_ylabel(\"Sales\")\n",
        "df.groupby(\"Segment\")[\"Profit\"].sum().sort_values(ascending=False).plot(kind=\"bar\",color=\"tomato\",ax=axes[1]).set_title('Segment by Profit')\n",
        "axes[1].set_ylabel(\"Profit\")"
      ],
      "metadata": {
        "colab": {
          "base_uri": "https://localhost:8080/",
          "height": 419
        },
        "id": "DZx414xj5ASy",
        "outputId": "aea349b6-03e4-4b3b-b6e4-02c4e6572316"
      },
      "execution_count": null,
      "outputs": [
        {
          "output_type": "execute_result",
          "data": {
            "text/plain": [
              "Text(0, 0.5, 'Profit')"
            ]
          },
          "metadata": {},
          "execution_count": 23
        },
        {
          "output_type": "display_data",
          "data": {
            "text/plain": [
              "<Figure size 1080x360 with 2 Axes>"
            ],
            "image/png": "[encoded data removed]"
          },
          "metadata": {
            "needs_background": "light"
          }
        }
      ]
    },
    {
      "cell_type": "code",
      "source": [
        "fig, axes = plt.subplots(1,2, figsize = (15, 5))\n",
        "df.groupby(\"City\")[\"Sales\"].sum().sort_values(ascending=False)[:10].plot(kind=\"bar\",color=\"Teal\",ax=axes[0]).set_title('Top 10 cities by Sales')\n",
        "axes[0].set_ylabel(\"Sales\")\n",
        "df.groupby(\"City\")[\"Profit\"].sum().sort_values(ascending=False)[:10].plot(kind=\"bar\",color=\"tomato\",ax=axes[1]).set_title('Top 10 cities by Profit')\n",
        "axes[1].set_ylabel(\"Profit\")"
      ],
      "metadata": {
        "colab": {
          "base_uri": "https://localhost:8080/",
          "height": 425
        },
        "id": "mtNx53YJ5APe",
        "outputId": "3ce5a312-44f8-4867-f2a2-975fb3fe76f4"
      },
      "execution_count": null,
      "outputs": [
        {
          "output_type": "execute_result",
          "data": {
            "text/plain": [
              "Text(0, 0.5, 'Profit')"
            ]
          },
          "metadata": {},
          "execution_count": 24
        },
        {
          "output_type": "display_data",
          "data": {
            "text/plain": [
              "<Figure size 1080x360 with 2 Axes>"
            ],
            "image/png": "[encoded data removed]"
          },
          "metadata": {
            "needs_background": "light"
          }
        }
      ]
    },
    {
      "cell_type": "code",
      "source": [
        "fig, axes = plt.subplots(1,2, figsize = (15, 5))\n",
        "df.groupby(\"State\")[\"Sales\"].sum().sort_values(ascending=False)[:10].plot(kind=\"bar\",color=\"Teal\",ax=axes[0]).set_title('Top 10 State by Sales')\n",
        "axes[0].set_ylabel(\"Sales\")\n",
        "df.groupby(\"State\")[\"Profit\"].sum().sort_values(ascending=False)[:10].plot(kind=\"bar\",color=\"tomato\",ax=axes[1]).set_title('Top 10 State by Profit')\n",
        "axes[1].set_ylabel(\"Profit\")"
      ],
      "metadata": {
        "colab": {
          "base_uri": "https://localhost:8080/",
          "height": 423
        },
        "id": "0rTi1dNV5AL7",
        "outputId": "1a37fb6f-cc86-4670-9891-a66addcaa0e6"
      },
      "execution_count": null,
      "outputs": [
        {
          "output_type": "execute_result",
          "data": {
            "text/plain": [
              "Text(0, 0.5, 'Profit')"
            ]
          },
          "metadata": {},
          "execution_count": 25
        },
        {
          "output_type": "display_data",
          "data": {
            "text/plain": [
              "<Figure size 1080x360 with 2 Axes>"
            ],
            "image/png": "[encoded data removed]"
          },
          "metadata": {
            "needs_background": "light"
          }
        }
      ]
    },
    {
      "cell_type": "code",
      "source": [
        "fig, axes = plt.subplots(1,2, figsize = (15, 5))\n",
        "df.groupby(\"Category\")[\"Sales\"].sum().plot(kind=\"pie\",autopct='%1.1f%%',explode=[0,0,0.1],shadow=True,ax=axes[0]).set_title('Most Sales in Category')\n",
        "df.groupby(\"Category\")[\"Profit\"].sum().plot(kind=\"pie\",autopct='%1.1f%%',explode=[0,0,0.1],shadow=True,ax=axes[1]).set_title('Most Profit in Category')"
      ],
      "metadata": {
        "id": "WwPjCEadAr2P",
        "colab": {
          "base_uri": "https://localhost:8080/",
          "height": 336
        },
        "outputId": "a233aa2f-2a17-45c0-bf42-2069d5675546"
      },
      "execution_count": null,
      "outputs": [
        {
          "output_type": "execute_result",
          "data": {
            "text/plain": [
              "Text(0.5, 1.0, 'Most Profit in Category')"
            ]
          },
          "metadata": {},
          "execution_count": 27
        },
        {
          "output_type": "display_data",
          "data": {
            "text/plain": [
              "<Figure size 1080x360 with 2 Axes>"
            ],
            "image/png": "[encoded data removed]"
          },
          "metadata": {}
        }
      ]
    },
    {
      "cell_type": "code",
      "source": [
        "fig, axes = plt.subplots(1,2, figsize = (15, 5))\n",
        "df.groupby(\"Sub-Category\")[\"Sales\"].sum().sort_values(ascending=False)[:10].plot(kind=\"bar\",color=\"deepskyblue\",ax=axes[0]).set_title('Most Sales in Sub-Category')\n",
        "axes[0].set_ylabel(\"Sales\")\n",
        "df.groupby(\"Sub-Category\")[\"Profit\"].sum().sort_values(ascending=False)[:10].plot(kind=\"bar\",color=\"lime\",ax=axes[1]).set_title('Most Proft in Sub-Category')\n",
        "axes[1].set_ylabel(\"Profit\")"
      ],
      "metadata": {
        "colab": {
          "base_uri": "https://localhost:8080/",
          "height": 415
        },
        "id": "u-F_ZCZEZhnP",
        "outputId": "0fa5b025-ca82-40f1-ce1f-438dcb8960f3"
      },
      "execution_count": null,
      "outputs": [
        {
          "output_type": "execute_result",
          "data": {
            "text/plain": [
              "Text(0, 0.5, 'Profit')"
            ]
          },
          "metadata": {},
          "execution_count": 29
        },
        {
          "output_type": "display_data",
          "data": {
            "text/plain": [
              "<Figure size 1080x360 with 2 Axes>"
            ],
            "image/png": "[encoded data removed]"
          },
          "metadata": {
            "needs_background": "light"
          }
        }
      ]
    },
    {
      "cell_type": "code",
      "source": [
        "#scatter plot\n",
        "plt.scatter(df['Sales'],df['Profit'], c ='green' )\n",
        "plt.xlabel('Sales')\n",
        "plt.ylabel('Profit')\n",
        "plt.title('Sales v/s Profit')\n",
        "plt.show()"
      ],
      "metadata": {
        "colab": {
          "base_uri": "https://localhost:8080/",
          "height": 295
        },
        "id": "SZARbZcQT-ZQ",
        "outputId": "99873f62-4987-4a9b-f7c3-a9dc87e56be5"
      },
      "execution_count": null,
      "outputs": [
        {
          "output_type": "display_data",
          "data": {
            "text/plain": [
              "<Figure size 432x288 with 1 Axes>"
            ],
            "image/png": "[encoded data removed]"
          },
          "metadata": {
            "needs_background": "light"
          }
        }
      ]
    },
    {
      "cell_type": "markdown",
      "source": [
        "**THANK YOU** "
      ],
      "metadata": {
        "id": "0AXZyJmMghyX"
      }
    }
  ]
}